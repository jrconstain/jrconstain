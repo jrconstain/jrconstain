{
  "cells": [
    {
      "cell_type": "markdown",
      "id": "e53dc4f6",
      "metadata": {
        "id": "e53dc4f6"
      },
      "source": [
        "<div >\n",
        "<img src = \"../banner.jpg\" />\n",
        "</div>"
      ]
    },
    {
      "cell_type": "markdown",
      "id": "8fa1c83b",
      "metadata": {
        "id": "8fa1c83b"
      },
      "source": [
        "<a target=\"_blank\" href=\"https://colab.research.google.com/github/ignaciomsarmiento/BDML_202520/blob/main/Lecture01/L01_01_LR.ipynb\">\n",
        "  <img src=\"https://colab.research.google.com/assets/colab-badge.svg\" alt=\"Open In Colab\"/>\n",
        "</a>"
      ]
    },
    {
      "cell_type": "markdown",
      "id": "32d87f3f",
      "metadata": {
        "id": "32d87f3f"
      },
      "source": [
        "# Lógica basica de la predicción con regresión lineal\n",
        "\n",
        "Nuestro objetivo  es construir un modelo predictivo de salario\n",
        "\n",
        "$$\n",
        "w = f(X) + u\n",
        "$$\n",
        "\n",
        "donde w es el salario y X es una matriz que incluye posibles variables/predictores explicativas (ej. educación, edad, educación de los padres, habilidad cognitiva, etc.).\n",
        "\n",
        "Un ejemplo de modelo predictivo es la regresión lineal con una forma funcional específica:\n",
        "\n",
        "$$\n",
        "ln(w)  = \\beta_0 + \\beta_1 X_1 + \\dots + \\beta_p X_p + u\n",
        "$$\n",
        "\n",
        "donde $ln(w)$ es el logaritmo del salario.\n",
        "\n",
        "Para ilustrar, usaré una muestra del NLSY97. El NLSY97 es una muestra representativa a nivel nacional de 8.984 hombres y mujeres nacidos entre 1980 y 1984 y que vivían en los Estados Unidos durante la encuesta inicial de 1997. Los participantes tenían entre 12 y 16 años al 31 de diciembre de 1996. Las entrevistas se realizaron anualmente desde 1997 hasta 2011 y cada dos años desde entonces.\n",
        "\n",
        "Carguemos los paquetes."
      ]
    },
    {
      "cell_type": "code",
      "execution_count": 1,
      "id": "a4b00b42",
      "metadata": {
        "vscode": {
          "languageId": "r"
        },
        "id": "a4b00b42"
      },
      "outputs": [],
      "source": [
        "# install.packages(\"pacman\") #Correr esta linea en Google Colab"
      ]
    },
    {
      "cell_type": "code",
      "metadata": {
        "id": "0e9ad2f0",
        "outputId": "5459b821-2bc5-4bf3-ba94-8900574f405c",
        "colab": {
          "base_uri": "https://localhost:8080/"
        }
      },
      "source": [
        "# Install the packages\n",
        "install.packages(c(\"pacman\", \"tidyverse\", \"stargazer\"))"
      ],
      "id": "0e9ad2f0",
      "execution_count": 5,
      "outputs": [
        {
          "output_type": "stream",
          "name": "stderr",
          "text": [
            "Installing packages into ‘/usr/local/lib/R/site-library’\n",
            "(as ‘lib’ is unspecified)\n",
            "\n"
          ]
        }
      ]
    },
    {
      "cell_type": "code",
      "execution_count": 6,
      "id": "d86d5977",
      "metadata": {
        "vscode": {
          "languageId": "r"
        },
        "colab": {
          "base_uri": "https://localhost:8080/"
        },
        "id": "d86d5977",
        "outputId": "a93b3e4b-5d50-4f9f-ca92-41b341269944"
      },
      "outputs": [
        {
          "output_type": "stream",
          "name": "stderr",
          "text": [
            "Loading required package: pacman\n",
            "\n"
          ]
        }
      ],
      "source": [
        "# Cargamos los paquetes\n",
        "\n",
        "require(\"pacman\")\n",
        "\n",
        "p_load(\"tidyverse\",\"stargazer\")\n"
      ]
    },
    {
      "cell_type": "markdown",
      "id": "6acb141f",
      "metadata": {
        "id": "6acb141f"
      },
      "source": [
        "Cargamos la base:"
      ]
    },
    {
      "cell_type": "code",
      "execution_count": 7,
      "id": "0f4546c8",
      "metadata": {
        "vscode": {
          "languageId": "r"
        },
        "colab": {
          "base_uri": "https://localhost:8080/"
        },
        "id": "0f4546c8",
        "outputId": "be2a73b0-8d41-4310-c68e-be4b49e3744d"
      },
      "outputs": [
        {
          "output_type": "stream",
          "name": "stderr",
          "text": [
            "\u001b[1mRows: \u001b[22m\u001b[34m1266\u001b[39m \u001b[1mColumns: \u001b[22m\u001b[34m994\u001b[39m\n",
            "\u001b[36m──\u001b[39m \u001b[1mColumn specification\u001b[22m \u001b[36m────────────────────────────────────────────────────────\u001b[39m\n",
            "\u001b[1mDelimiter:\u001b[22m \",\"\n",
            "\u001b[32mdbl\u001b[39m (994): lnw_2016, educ, black, hispanic, other, exp, afqt, mom_educ, dad_...\n",
            "\n",
            "\u001b[36mℹ\u001b[39m Use `spec()` to retrieve the full column specification for this data.\n",
            "\u001b[36mℹ\u001b[39m Specify the column types or set `show_col_types = FALSE` to quiet this message.\n"
          ]
        }
      ],
      "source": [
        "nlsy <- read_csv('https://raw.githubusercontent.com/ignaciomsarmiento/datasets/main/nlsy97.csv')\n",
        "\n",
        "#Housekeeping\n",
        "nlsy <- nlsy  %>%   drop_na(educ) #dropea los valores faltantes (NA)"
      ]
    },
    {
      "cell_type": "code",
      "execution_count": 8,
      "id": "676de3bf",
      "metadata": {
        "vscode": {
          "languageId": "r"
        },
        "colab": {
          "base_uri": "https://localhost:8080/",
          "height": 306
        },
        "id": "676de3bf",
        "outputId": "95dadf7c-9ae5-44b9-bfae-86a9a892186b"
      },
      "outputs": [
        {
          "output_type": "display_data",
          "data": {
            "text/html": [
              "<table class=\"dataframe\">\n",
              "<caption>A tibble: 6 × 994</caption>\n",
              "<thead>\n",
              "\t<tr><th scope=col>lnw_2016</th><th scope=col>educ</th><th scope=col>black</th><th scope=col>hispanic</th><th scope=col>other</th><th scope=col>exp</th><th scope=col>afqt</th><th scope=col>mom_educ</th><th scope=col>dad_educ</th><th scope=col>yhea_100_1997</th><th scope=col>⋯</th><th scope=col>_XPexp_13</th><th scope=col>_XPexp_14</th><th scope=col>_XPexp_16</th><th scope=col>_XPexp_17</th><th scope=col>_XPexp_18</th><th scope=col>_XPexp_19</th><th scope=col>_XPexp_20</th><th scope=col>_XPexp_21</th><th scope=col>_XPexp_22</th><th scope=col>_XPexp_23</th></tr>\n",
              "\t<tr><th scope=col>&lt;dbl&gt;</th><th scope=col>&lt;dbl&gt;</th><th scope=col>&lt;dbl&gt;</th><th scope=col>&lt;dbl&gt;</th><th scope=col>&lt;dbl&gt;</th><th scope=col>&lt;dbl&gt;</th><th scope=col>&lt;dbl&gt;</th><th scope=col>&lt;dbl&gt;</th><th scope=col>&lt;dbl&gt;</th><th scope=col>&lt;dbl&gt;</th><th scope=col>⋯</th><th scope=col>&lt;dbl&gt;</th><th scope=col>&lt;dbl&gt;</th><th scope=col>&lt;dbl&gt;</th><th scope=col>&lt;dbl&gt;</th><th scope=col>&lt;dbl&gt;</th><th scope=col>&lt;dbl&gt;</th><th scope=col>&lt;dbl&gt;</th><th scope=col>&lt;dbl&gt;</th><th scope=col>&lt;dbl&gt;</th><th scope=col>&lt;dbl&gt;</th></tr>\n",
              "</thead>\n",
              "<tbody>\n",
              "\t<tr><td>4.076898</td><td>16</td><td>0</td><td>0</td><td>0</td><td>11</td><td>7.0724</td><td>12</td><td>12</td><td>3</td><td>⋯</td><td>0</td><td>0</td><td>0</td><td>0</td><td>0</td><td>0</td><td>0</td><td>0</td><td>0</td><td>0</td></tr>\n",
              "\t<tr><td>3.294138</td><td> 9</td><td>0</td><td>0</td><td>0</td><td>19</td><td>4.7481</td><td> 9</td><td>10</td><td>2</td><td>⋯</td><td>0</td><td>0</td><td>0</td><td>0</td><td>0</td><td>1</td><td>0</td><td>0</td><td>0</td><td>0</td></tr>\n",
              "\t<tr><td>2.830896</td><td> 9</td><td>0</td><td>1</td><td>0</td><td>22</td><td>1.1987</td><td>12</td><td> 9</td><td>3</td><td>⋯</td><td>0</td><td>0</td><td>0</td><td>0</td><td>0</td><td>0</td><td>0</td><td>0</td><td>1</td><td>0</td></tr>\n",
              "\t<tr><td>4.306459</td><td>16</td><td>0</td><td>0</td><td>0</td><td>13</td><td>8.9321</td><td>16</td><td>18</td><td>2</td><td>⋯</td><td>1</td><td>0</td><td>0</td><td>0</td><td>0</td><td>0</td><td>0</td><td>0</td><td>0</td><td>0</td></tr>\n",
              "\t<tr><td>5.991465</td><td>16</td><td>0</td><td>1</td><td>0</td><td>15</td><td>2.2618</td><td>16</td><td>16</td><td>1</td><td>⋯</td><td>0</td><td>0</td><td>0</td><td>0</td><td>0</td><td>0</td><td>0</td><td>0</td><td>0</td><td>0</td></tr>\n",
              "\t<tr><td>4.711924</td><td>16</td><td>0</td><td>0</td><td>0</td><td>14</td><td>8.9502</td><td>18</td><td>20</td><td>1</td><td>⋯</td><td>0</td><td>1</td><td>0</td><td>0</td><td>0</td><td>0</td><td>0</td><td>0</td><td>0</td><td>0</td></tr>\n",
              "</tbody>\n",
              "</table>\n"
            ],
            "text/markdown": "\nA tibble: 6 × 994\n\n| lnw_2016 &lt;dbl&gt; | educ &lt;dbl&gt; | black &lt;dbl&gt; | hispanic &lt;dbl&gt; | other &lt;dbl&gt; | exp &lt;dbl&gt; | afqt &lt;dbl&gt; | mom_educ &lt;dbl&gt; | dad_educ &lt;dbl&gt; | yhea_100_1997 &lt;dbl&gt; | ⋯ ⋯ | _XPexp_13 &lt;dbl&gt; | _XPexp_14 &lt;dbl&gt; | _XPexp_16 &lt;dbl&gt; | _XPexp_17 &lt;dbl&gt; | _XPexp_18 &lt;dbl&gt; | _XPexp_19 &lt;dbl&gt; | _XPexp_20 &lt;dbl&gt; | _XPexp_21 &lt;dbl&gt; | _XPexp_22 &lt;dbl&gt; | _XPexp_23 &lt;dbl&gt; |\n|---|---|---|---|---|---|---|---|---|---|---|---|---|---|---|---|---|---|---|---|---|\n| 4.076898 | 16 | 0 | 0 | 0 | 11 | 7.0724 | 12 | 12 | 3 | ⋯ | 0 | 0 | 0 | 0 | 0 | 0 | 0 | 0 | 0 | 0 |\n| 3.294138 |  9 | 0 | 0 | 0 | 19 | 4.7481 |  9 | 10 | 2 | ⋯ | 0 | 0 | 0 | 0 | 0 | 1 | 0 | 0 | 0 | 0 |\n| 2.830896 |  9 | 0 | 1 | 0 | 22 | 1.1987 | 12 |  9 | 3 | ⋯ | 0 | 0 | 0 | 0 | 0 | 0 | 0 | 0 | 1 | 0 |\n| 4.306459 | 16 | 0 | 0 | 0 | 13 | 8.9321 | 16 | 18 | 2 | ⋯ | 1 | 0 | 0 | 0 | 0 | 0 | 0 | 0 | 0 | 0 |\n| 5.991465 | 16 | 0 | 1 | 0 | 15 | 2.2618 | 16 | 16 | 1 | ⋯ | 0 | 0 | 0 | 0 | 0 | 0 | 0 | 0 | 0 | 0 |\n| 4.711924 | 16 | 0 | 0 | 0 | 14 | 8.9502 | 18 | 20 | 1 | ⋯ | 0 | 1 | 0 | 0 | 0 | 0 | 0 | 0 | 0 | 0 |\n\n",
            "text/latex": "A tibble: 6 × 994\n\\begin{tabular}{lllllllllllllllllllll}\n lnw\\_2016 & educ & black & hispanic & other & exp & afqt & mom\\_educ & dad\\_educ & yhea\\_100\\_1997 & ⋯ & \\_XPexp\\_13 & \\_XPexp\\_14 & \\_XPexp\\_16 & \\_XPexp\\_17 & \\_XPexp\\_18 & \\_XPexp\\_19 & \\_XPexp\\_20 & \\_XPexp\\_21 & \\_XPexp\\_22 & \\_XPexp\\_23\\\\\n <dbl> & <dbl> & <dbl> & <dbl> & <dbl> & <dbl> & <dbl> & <dbl> & <dbl> & <dbl> & ⋯ & <dbl> & <dbl> & <dbl> & <dbl> & <dbl> & <dbl> & <dbl> & <dbl> & <dbl> & <dbl>\\\\\n\\hline\n\t 4.076898 & 16 & 0 & 0 & 0 & 11 & 7.0724 & 12 & 12 & 3 & ⋯ & 0 & 0 & 0 & 0 & 0 & 0 & 0 & 0 & 0 & 0\\\\\n\t 3.294138 &  9 & 0 & 0 & 0 & 19 & 4.7481 &  9 & 10 & 2 & ⋯ & 0 & 0 & 0 & 0 & 0 & 1 & 0 & 0 & 0 & 0\\\\\n\t 2.830896 &  9 & 0 & 1 & 0 & 22 & 1.1987 & 12 &  9 & 3 & ⋯ & 0 & 0 & 0 & 0 & 0 & 0 & 0 & 0 & 1 & 0\\\\\n\t 4.306459 & 16 & 0 & 0 & 0 & 13 & 8.9321 & 16 & 18 & 2 & ⋯ & 1 & 0 & 0 & 0 & 0 & 0 & 0 & 0 & 0 & 0\\\\\n\t 5.991465 & 16 & 0 & 1 & 0 & 15 & 2.2618 & 16 & 16 & 1 & ⋯ & 0 & 0 & 0 & 0 & 0 & 0 & 0 & 0 & 0 & 0\\\\\n\t 4.711924 & 16 & 0 & 0 & 0 & 14 & 8.9502 & 18 & 20 & 1 & ⋯ & 0 & 1 & 0 & 0 & 0 & 0 & 0 & 0 & 0 & 0\\\\\n\\end{tabular}\n",
            "text/plain": [
              "  lnw_2016 educ black hispanic other exp afqt   mom_educ dad_educ yhea_100_1997\n",
              "1 4.076898 16   0     0        0     11  7.0724 12       12       3            \n",
              "2 3.294138  9   0     0        0     19  4.7481  9       10       2            \n",
              "3 2.830896  9   0     1        0     22  1.1987 12        9       3            \n",
              "4 4.306459 16   0     0        0     13  8.9321 16       18       2            \n",
              "5 5.991465 16   0     1        0     15  2.2618 16       16       1            \n",
              "6 4.711924 16   0     0        0     14  8.9502 18       20       1            \n",
              "  ⋯ _XPexp_13 _XPexp_14 _XPexp_16 _XPexp_17 _XPexp_18 _XPexp_19 _XPexp_20\n",
              "1 ⋯ 0         0         0         0         0         0         0        \n",
              "2 ⋯ 0         0         0         0         0         1         0        \n",
              "3 ⋯ 0         0         0         0         0         0         0        \n",
              "4 ⋯ 1         0         0         0         0         0         0        \n",
              "5 ⋯ 0         0         0         0         0         0         0        \n",
              "6 ⋯ 0         1         0         0         0         0         0        \n",
              "  _XPexp_21 _XPexp_22 _XPexp_23\n",
              "1 0         0         0        \n",
              "2 0         0         0        \n",
              "3 0         1         0        \n",
              "4 0         0         0        \n",
              "5 0         0         0        \n",
              "6 0         0         0        "
            ]
          },
          "metadata": {}
        }
      ],
      "source": [
        "head(nlsy)"
      ]
    },
    {
      "cell_type": "markdown",
      "id": "f7e8f67a",
      "metadata": {
        "id": "f7e8f67a"
      },
      "source": [
        "## Regresión Lineal"
      ]
    },
    {
      "cell_type": "code",
      "execution_count": 9,
      "id": "61bf7b3d",
      "metadata": {
        "vscode": {
          "languageId": "r"
        },
        "id": "61bf7b3d"
      },
      "outputs": [],
      "source": [
        "reg1 <- lm(lnw_2016~educ,   data = nlsy)"
      ]
    },
    {
      "cell_type": "code",
      "execution_count": 10,
      "id": "8ae5701f",
      "metadata": {
        "vscode": {
          "languageId": "r"
        },
        "id": "8ae5701f"
      },
      "outputs": [],
      "source": [
        "reg2 <- lm(lnw_2016~educ+ exp,   data = nlsy)"
      ]
    },
    {
      "cell_type": "code",
      "execution_count": 11,
      "id": "07c94def",
      "metadata": {
        "vscode": {
          "languageId": "r"
        },
        "colab": {
          "base_uri": "https://localhost:8080/"
        },
        "id": "07c94def",
        "outputId": "5fcfaec2-e36e-40c3-83eb-c0fea0662489"
      },
      "outputs": [
        {
          "output_type": "stream",
          "name": "stdout",
          "text": [
            "\n",
            "=====================================================================\n",
            "                                   Dependent variable:               \n",
            "                    -------------------------------------------------\n",
            "                                        lnw_2016                     \n",
            "                              (1)                      (2)           \n",
            "---------------------------------------------------------------------\n",
            "educ                        0.077***                 0.110***        \n",
            "                            (0.008)                  (0.019)         \n",
            "                                                                     \n",
            "exp                                                   0.032*         \n",
            "                                                     (0.017)         \n",
            "                                                                     \n",
            "Constant                    2.003***                 1.063**         \n",
            "                            (0.119)                  (0.507)         \n",
            "                                                                     \n",
            "---------------------------------------------------------------------\n",
            "Observations                 1,266                    1,266          \n",
            "R2                           0.067                    0.069          \n",
            "Adjusted R2                  0.066                    0.068          \n",
            "Residual Std. Error    0.840 (df = 1264)        0.839 (df = 1263)    \n",
            "F Statistic         90.128*** (df = 1; 1264) 46.979*** (df = 2; 1263)\n",
            "=====================================================================\n",
            "Note:                                     *p<0.1; **p<0.05; ***p<0.01\n"
          ]
        }
      ],
      "source": [
        "stargazer(reg1,reg2,type=\"text\") #Similar en stata: outreg2"
      ]
    },
    {
      "cell_type": "markdown",
      "id": "9727ac8e",
      "metadata": {
        "id": "9727ac8e"
      },
      "source": [
        "## Predicción\n",
        "\n",
        "$$\n",
        "\\hat{y} = \\hat{\\beta}_0 +  \\hat{\\beta}_1 educ\n",
        "$$"
      ]
    },
    {
      "cell_type": "code",
      "execution_count": 12,
      "id": "ebc5c149",
      "metadata": {
        "vscode": {
          "languageId": "r"
        },
        "colab": {
          "base_uri": "https://localhost:8080/",
          "height": 34
        },
        "id": "ebc5c149",
        "outputId": "bebad72f-7c95-4643-9743-e898c0c8dba1"
      },
      "outputs": [
        {
          "output_type": "display_data",
          "data": {
            "text/html": [
              "<style>\n",
              ".dl-inline {width: auto; margin:0; padding: 0}\n",
              ".dl-inline>dt, .dl-inline>dd {float: none; width: auto; display: inline-block}\n",
              ".dl-inline>dt::after {content: \":\\0020\"; padding-right: .5ex}\n",
              ".dl-inline>dt:not(:first-of-type) {padding-left: .5ex}\n",
              "</style><dl class=dl-inline><dt>(Intercept)</dt><dd>2.00307383457413</dd><dt>educ</dt><dd>0.0773200389560837</dd></dl>\n"
            ],
            "text/markdown": "(Intercept)\n:   2.00307383457413educ\n:   0.0773200389560837\n\n",
            "text/latex": "\\begin{description*}\n\\item[(Intercept)] 2.00307383457413\n\\item[educ] 0.0773200389560837\n\\end{description*}\n",
            "text/plain": [
              "(Intercept)        educ \n",
              " 2.00307383  0.07732004 "
            ]
          },
          "metadata": {}
        }
      ],
      "source": [
        "reg1$coef # simbolo $ extrae los coef"
      ]
    },
    {
      "cell_type": "code",
      "execution_count": 13,
      "id": "9fc31b49",
      "metadata": {
        "vscode": {
          "languageId": "r"
        },
        "colab": {
          "base_uri": "https://localhost:8080/",
          "height": 34
        },
        "id": "9fc31b49",
        "outputId": "249dee26-2741-4119-8906-f19c4b84b4cb"
      },
      "outputs": [
        {
          "output_type": "display_data",
          "data": {
            "text/html": [
              "<strong>(Intercept):</strong> 2.00307383457413"
            ],
            "text/markdown": "**(Intercept):** 2.00307383457413",
            "text/latex": "\\textbf{(Intercept):} 2.00307383457413",
            "text/plain": [
              "(Intercept) \n",
              "   2.003074 "
            ]
          },
          "metadata": {}
        }
      ],
      "source": [
        "reg1$coef[1]"
      ]
    },
    {
      "cell_type": "code",
      "execution_count": 15,
      "id": "717b221f",
      "metadata": {
        "vscode": {
          "languageId": "r"
        },
        "colab": {
          "base_uri": "https://localhost:8080/",
          "height": 34
        },
        "id": "717b221f",
        "outputId": "3a013604-ecf0-4dee-951d-d631ca0b2369"
      },
      "outputs": [
        {
          "output_type": "display_data",
          "data": {
            "text/html": [
              "<strong>(Intercept):</strong> 3.24019445787147"
            ],
            "text/markdown": "**(Intercept):** 3.24019445787147",
            "text/latex": "\\textbf{(Intercept):} 3.24019445787147",
            "text/plain": [
              "(Intercept) \n",
              "   3.240194 "
            ]
          },
          "metadata": {}
        }
      ],
      "source": [
        "reg1$coef[1]+reg1$coef[2]*16 # intercepto + coef * años de edu ejem 16"
      ]
    },
    {
      "cell_type": "code",
      "execution_count": null,
      "id": "1cd2d2e4",
      "metadata": {
        "vscode": {
          "languageId": "r"
        },
        "id": "1cd2d2e4"
      },
      "outputs": [],
      "source": [
        "exp(reg1$coef[1]+reg1$coef[2]*16)"
      ]
    },
    {
      "cell_type": "markdown",
      "id": "c0f44a67",
      "metadata": {
        "id": "c0f44a67"
      },
      "source": [
        "## Mejor predictor"
      ]
    },
    {
      "cell_type": "markdown",
      "id": "d57d66b3-aac7-42c3-9afa-30e288b31c19",
      "metadata": {
        "id": "d57d66b3-aac7-42c3-9afa-30e288b31c19"
      },
      "source": [
        "Vamos a constuir regresores polinomiales de forma tal de tnere reglas de predicción más flexibles y potencialmente mejores."
      ]
    },
    {
      "cell_type": "code",
      "execution_count": null,
      "id": "1c589b4f",
      "metadata": {
        "vscode": {
          "languageId": "r"
        },
        "id": "1c589b4f"
      },
      "outputs": [],
      "source": [
        "#Polinomios de educación\n",
        "\n",
        "nlsy <- nlsy  %>% mutate(educ2=educ^2,\n",
        "                         educ3=educ^3,\n",
        "                         educ4=educ^4,\n",
        "                         educ5=educ^5,\n",
        "                         educ6=educ^6,\n",
        "                         educ7=educ^7,\n",
        "                         educ8=educ^8\n",
        "                        )"
      ]
    },
    {
      "cell_type": "code",
      "execution_count": null,
      "id": "ff9a7d77",
      "metadata": {
        "vscode": {
          "languageId": "r"
        },
        "id": "ff9a7d77"
      },
      "outputs": [],
      "source": [
        "head(nlsy)"
      ]
    },
    {
      "cell_type": "markdown",
      "id": "9e866852",
      "metadata": {
        "id": "9e866852"
      },
      "source": [
        " Corremos la regresión"
      ]
    },
    {
      "cell_type": "code",
      "execution_count": null,
      "id": "c209a0c9",
      "metadata": {
        "vscode": {
          "languageId": "r"
        },
        "id": "c209a0c9"
      },
      "outputs": [],
      "source": [
        "reg3<- lm(lnw_2016~educ+ educ2 + educ3 + educ4 + educ5 + educ6 + educ7 +\n",
        "    educ8 ,   data = nlsy)\n"
      ]
    },
    {
      "cell_type": "code",
      "execution_count": null,
      "id": "50ca8d07",
      "metadata": {
        "vscode": {
          "languageId": "r"
        },
        "id": "50ca8d07"
      },
      "outputs": [],
      "source": [
        "stargazer(reg1,reg2,reg3,type=\"text\") #Similar en stata: outreg2"
      ]
    },
    {
      "cell_type": "code",
      "execution_count": null,
      "id": "18c41cbd",
      "metadata": {
        "vscode": {
          "languageId": "r"
        },
        "id": "18c41cbd"
      },
      "outputs": [],
      "source": [
        "#predict me simplifica hacer la operación X\\hat{\\beta}\n",
        "\n",
        "nlsy <- nlsy  %>% mutate(yhat=predict(reg3)) #con la función mutate\n",
        "\n"
      ]
    },
    {
      "cell_type": "code",
      "execution_count": null,
      "id": "fad3cc0d",
      "metadata": {
        "vscode": {
          "languageId": "r"
        },
        "id": "fad3cc0d"
      },
      "outputs": [],
      "source": [
        "head(nlsy)"
      ]
    },
    {
      "cell_type": "code",
      "execution_count": null,
      "id": "a5d8cb0f",
      "metadata": {
        "vscode": {
          "languageId": "r"
        },
        "id": "a5d8cb0f"
      },
      "outputs": [],
      "source": [
        "# Voy a calcular E(y|X=x) y E(\\hat(y)| X=x)\n",
        "\n",
        "summ = nlsy %>%\n",
        "  group_by(\n",
        "    educ, educ2, educ3, educ4, educ5,\n",
        "    educ6, educ7, educ8\n",
        "  ) %>%\n",
        "  summarize(\n",
        "    mean_y = mean(lnw_2016),\n",
        "    yhat_reg = mean(yhat), .groups=\"drop\"\n",
        "  )"
      ]
    },
    {
      "cell_type": "code",
      "execution_count": null,
      "id": "801aa98f",
      "metadata": {
        "vscode": {
          "languageId": "r"
        },
        "id": "801aa98f"
      },
      "outputs": [],
      "source": [
        "head(summ)"
      ]
    },
    {
      "cell_type": "code",
      "execution_count": null,
      "id": "bacc3aa8",
      "metadata": {
        "vscode": {
          "languageId": "r"
        },
        "id": "bacc3aa8"
      },
      "outputs": [],
      "source": [
        "# graficamos\n",
        "ggplot(summ) +\n",
        "  geom_point(\n",
        "    aes(x = educ, y = mean_y),\n",
        "    color = \"blue\", size = 2\n",
        "  ) +\n",
        "  geom_line(\n",
        "    aes(x = educ, y = yhat_reg),\n",
        "    color = \"green\", linewidth = 1.5\n",
        "  ) +\n",
        "  labs(\n",
        "    title = \"ln Wages by Education in the NLSY\",\n",
        "    x = \"Years of Schooling\",\n",
        "    y = \"ln Wages\"\n",
        "  ) +\n",
        "  theme_bw()\n"
      ]
    },
    {
      "cell_type": "markdown",
      "id": "57fd77cb",
      "metadata": {
        "id": "57fd77cb"
      },
      "source": [
        "Como podemos ver, este modelo flexible captura muy bien patrones complejos.\n",
        "\n",
        "Incluyendo un conjunto lo suficientemente rico de transformaciones, las predicciones de OLS producirán estimaciones del predictor ideal: la función de expectativa condicional."
      ]
    }
  ],
  "metadata": {
    "kernelspec": {
      "display_name": "R",
      "language": "R",
      "name": "ir"
    },
    "language_info": {
      "codemirror_mode": "r",
      "file_extension": ".r",
      "mimetype": "text/x-r-source",
      "name": "R",
      "pygments_lexer": "r",
      "version": "4.3.2"
    },
    "toc": {
      "base_numbering": 1,
      "nav_menu": {},
      "number_sections": true,
      "sideBar": true,
      "skip_h1_title": false,
      "title_cell": "Table of Contents",
      "title_sidebar": "Contents",
      "toc_cell": false,
      "toc_position": {},
      "toc_section_display": true,
      "toc_window_display": false
    },
    "colab": {
      "provenance": []
    }
  },
  "nbformat": 4,
  "nbformat_minor": 5
}